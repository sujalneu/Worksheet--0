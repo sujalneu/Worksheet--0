{
  "cells": [
    {
      "cell_type": "markdown",
      "metadata": {
        "id": "view-in-github",
        "colab_type": "text"
      },
      "source": [
        "<a href=\"https://colab.research.google.com/github/sujalneu/Worksheet--0/blob/main/Worksheet-0.ipynb\" target=\"_parent\"><img src=\"https://colab.research.google.com/assets/colab-badge.svg\" alt=\"Open In Colab\"/></a>"
      ]
    },
    {
      "cell_type": "markdown",
      "source": [
        "# **TO - DO - Task**"
      ],
      "metadata": {
        "id": "exS5BybPldha"
      }
    },
    {
      "cell_type": "markdown",
      "source": [
        "# Task 1\n",
        "Create empty lists for temperature classifications:\n",
        "\n",
        "1. Cold: temperatures below 10°C.\n",
        "2. Mild: temperatures between 10°C and 15°C.\n",
        "3. Comfortable: temperatures between 15°C and 20°C."
      ],
      "metadata": {
        "id": "GR8LR57uZKqP"
      }
    },
    {
      "cell_type": "code",
      "source": [
        "temperatures = [8.2, 17.4, 14.1, 7.9, 18.0, 13.5, 9.0, 17.8, 13.0, 8.5,\n",
        "                16.5, 12.9, 7.7, 17.2, 13.3, 8.4, 16.7, 14.0, 9.5, 18.3, 13.4, 8.1,\n",
        "                17.9, 14.2, 7.6, 17.0, 12.8, 8.0, 16.8, 13.7, 7.8, 17.5, 13.6, 8.7,\n",
        "                17.1, 13.8, 9.2, 18.1, 13.9, 8.3, 16.4, 12.7, 8.9, 18.2, 13.1, 7.8,\n",
        "                16.6, 12.5]\n",
        "\n",
        "cold = []\n",
        "mild = []\n",
        "comfortable = []\n",
        "\n",
        "for temp in temperatures:\n",
        "    if temp < 10:\n",
        "        cold.append(temp)\n",
        "    elif 10 <= temp <= 15:\n",
        "        mild.append(temp)\n",
        "    elif 15 < temp <= 20:\n",
        "        comfortable.append(temp)\n",
        "\n",
        "print(\"Cold temperatures:\", cold)\n",
        "print(\"Mild temperatures:\", mild)\n",
        "print(\"Comfortable temperatures:\", comfortable)"
      ],
      "metadata": {
        "colab": {
          "base_uri": "https://localhost:8080/"
        },
        "id": "DOZ4veyhZHz_",
        "outputId": "c07d6680-b5f0-447c-8078-08fea4297d32"
      },
      "execution_count": 1,
      "outputs": [
        {
          "output_type": "stream",
          "name": "stdout",
          "text": [
            "Cold temperatures: [8.2, 7.9, 9.0, 8.5, 7.7, 8.4, 9.5, 8.1, 7.6, 8.0, 7.8, 8.7, 9.2, 8.3, 8.9, 7.8]\n",
            "Mild temperatures: [14.1, 13.5, 13.0, 12.9, 13.3, 14.0, 13.4, 14.2, 12.8, 13.7, 13.6, 13.8, 13.9, 12.7, 13.1, 12.5]\n",
            "Comfortable temperatures: [17.4, 18.0, 17.8, 16.5, 17.2, 16.7, 18.3, 17.9, 17.0, 16.8, 17.5, 17.1, 18.1, 16.4, 18.2, 16.6]\n"
          ]
        }
      ]
    },
    {
      "cell_type": "markdown",
      "source": [
        "# Task 2. Based on Data - Answer all the Questions:"
      ],
      "metadata": {
        "id": "4NneZAKdbrgC"
      }
    },
    {
      "cell_type": "markdown",
      "source": [
        "# 1. How many times was it mild?\n",
        "= To find how many times the temperature was mild, we simply count the\n",
        "number of elements in the mild list."
      ],
      "metadata": {
        "id": "-mzz0X9ygKu8"
      }
    },
    {
      "cell_type": "markdown",
      "source": [
        "# 2. How many times was it comfortable?\n",
        "= Similarly, count the number of elements in the comfortable list"
      ],
      "metadata": {
        "id": "HG9_sgQpgZw1"
      }
    },
    {
      "cell_type": "markdown",
      "source": [
        "# 3. How many times was it cold?\n",
        "= Count the number of elements in the cold list."
      ],
      "metadata": {
        "id": "aUv___4jgeqF"
      }
    },
    {
      "cell_type": "code",
      "source": [
        "# Answering the questions\n",
        "print(\"Number of times it was cold:\", len(cold))\n",
        "print(\"Number of times it was mild:\", len(mild))\n",
        "print(\"Number of times it was comfortable:\", len(comfortable))\n"
      ],
      "metadata": {
        "colab": {
          "base_uri": "https://localhost:8080/"
        },
        "id": "fTNza07sb5Ai",
        "outputId": "ed29d5cc-9053-423e-f0f3-1c66e44a5cdb"
      },
      "execution_count": 2,
      "outputs": [
        {
          "output_type": "stream",
          "name": "stdout",
          "text": [
            "Number of times it was cold: 16\n",
            "Number of times it was mild: 16\n",
            "Number of times it was comfortable: 16\n"
          ]
        }
      ]
    },
    {
      "cell_type": "markdown",
      "source": [
        "# Task 3: Convert Temperatures from Celsius to Fahrenheit"
      ],
      "metadata": {
        "id": "P6sDyMHycIAj"
      }
    },
    {
      "cell_type": "code",
      "source": [
        "# Convert Celsius to Fahrenheit\n",
        "temperatures_fahrenheit = [(temp * 9/5) + 32 for temp in temperatures]\n",
        "\n",
        "# Print the Fahrenheit values\n",
        "print(\"Temperatures in Fahrenheit:\", temperatures_fahrenheit)\n"
      ],
      "metadata": {
        "colab": {
          "base_uri": "https://localhost:8080/"
        },
        "id": "8x4zo4c3cs30",
        "outputId": "98e70e69-62db-40c1-bc1d-9b7627e67b6c"
      },
      "execution_count": 3,
      "outputs": [
        {
          "output_type": "stream",
          "name": "stdout",
          "text": [
            "Temperatures in Fahrenheit: [46.76, 63.32, 57.379999999999995, 46.22, 64.4, 56.3, 48.2, 64.04, 55.4, 47.3, 61.7, 55.22, 45.86, 62.959999999999994, 55.94, 47.120000000000005, 62.059999999999995, 57.2, 49.1, 64.94, 56.120000000000005, 46.58, 64.22, 57.56, 45.68, 62.6, 55.04, 46.4, 62.24, 56.66, 46.04, 63.5, 56.48, 47.66, 62.78, 56.84, 48.56, 64.58, 57.02, 46.94, 61.519999999999996, 54.86, 48.02, 64.75999999999999, 55.58, 46.04, 61.88, 54.5]\n"
          ]
        }
      ]
    },
    {
      "cell_type": "markdown",
      "source": [
        "# Task 4: Analyze Temperature Patterns by Time of Day"
      ],
      "metadata": {
        "id": "mIjz8kdEcyjh"
      }
    },
    {
      "cell_type": "code",
      "source": [
        "# Create empty lists for night, evening, and day temperatures\n",
        "night_temps = []\n",
        "evening_temps = []\n",
        "day_temps = []\n",
        "\n",
        "# Assign temperatures to each list based on time of day\n",
        "for i in range(0, len(temperatures), 3):\n",
        "    night_temps.append(temperatures[i])  # Night (00-08)\n",
        "    evening_temps.append(temperatures[i+1])  # Evening (08-16)\n",
        "    day_temps.append(temperatures[i+2])  # Day (16-24)\n",
        "\n",
        "# Calculate the average daytime temperature\n",
        "average_day_temp = sum(day_temps) / len(day_temps)\n",
        "\n",
        "# Print the results\n",
        "print(\"Night temperatures:\", night_temps)\n",
        "print(\"Evening temperatures:\", evening_temps)\n",
        "print(\"Day temperatures:\", day_temps)\n",
        "print(\"Average daytime temperature:\", average_day_temp)\n"
      ],
      "metadata": {
        "colab": {
          "base_uri": "https://localhost:8080/"
        },
        "id": "rbtSyMGFdH8L",
        "outputId": "c984194d-1af4-4ece-cb2d-2113c0d1a1eb"
      },
      "execution_count": 4,
      "outputs": [
        {
          "output_type": "stream",
          "name": "stdout",
          "text": [
            "Night temperatures: [8.2, 7.9, 9.0, 8.5, 7.7, 8.4, 9.5, 8.1, 7.6, 8.0, 7.8, 8.7, 9.2, 8.3, 8.9, 7.8]\n",
            "Evening temperatures: [17.4, 18.0, 17.8, 16.5, 17.2, 16.7, 18.3, 17.9, 17.0, 16.8, 17.5, 17.1, 18.1, 16.4, 18.2, 16.6]\n",
            "Day temperatures: [14.1, 13.5, 13.0, 12.9, 13.3, 14.0, 13.4, 14.2, 12.8, 13.7, 13.6, 13.8, 13.9, 12.7, 13.1, 12.5]\n",
            "Average daytime temperature: 13.40625\n"
          ]
        }
      ]
    },
    {
      "cell_type": "markdown",
      "source": [
        "Optional: Plot \"Day vs. Temperature\" using matplotlib"
      ],
      "metadata": {
        "id": "H9IMWut3dOlM"
      }
    },
    {
      "cell_type": "code",
      "source": [
        "import matplotlib.pyplot as plt\n",
        "\n",
        "# Plot Day vs Temperature\n",
        "plt.plot(day_temps, marker='o', linestyle='-', color='b')\n",
        "plt.title('Daytime Temperatures')\n",
        "plt.xlabel('Days')\n",
        "plt.ylabel('Temperature (°C)')\n",
        "plt.show()\n"
      ],
      "metadata": {
        "colab": {
          "base_uri": "https://localhost:8080/",
          "height": 472
        },
        "id": "f1Ag3DqLdP18",
        "outputId": "ef9e5f32-b75c-4640-b066-3f7586bd7d10"
      },
      "execution_count": 5,
      "outputs": [
        {
          "output_type": "display_data",
          "data": {
            "text/plain": [
              "<Figure size 640x480 with 1 Axes>"
            ],
            "image/png": "[encoded data removed]"
          },
          "metadata": {}
        }
      ]
    },
    {
      "cell_type": "markdown",
      "source": [],
      "metadata": {
        "id": "W7Nu8BgIilG1"
      }
    },
    {
      "cell_type": "markdown",
      "source": [],
      "metadata": {
        "id": "i_ajqjLwilE8"
      }
    },
    {
      "cell_type": "markdown",
      "source": [
        "# **Exercise - Recursion**"
      ],
      "metadata": {
        "id": "y5hVj6E0dZfF"
      }
    },
    {
      "cell_type": "markdown",
      "source": [
        "# Task 1 - Sum of Nested Lists:"
      ],
      "metadata": {
        "id": "rgdBaDrvdcc9"
      }
    },
    {
      "cell_type": "code",
      "source": [
        "def sum_nested_list(nested_list):\n",
        "\n",
        "    total = 0\n",
        "    for element in nested_list:\n",
        "        if isinstance(element, list):\n",
        "            total += sum_nested_list(element)\n",
        "        else:\n",
        "            total += element\n",
        "    return total\n",
        "\n",
        "nested_list = [1, [2, [3, 4], 5], 6, [7, 8]]\n",
        "print(sum_nested_list(nested_list))\n"
      ],
      "metadata": {
        "colab": {
          "base_uri": "https://localhost:8080/"
        },
        "id": "ACOG5lpddqWf",
        "outputId": "21f18dec-c787-465e-88c1-9054173f89e5"
      },
      "execution_count": 7,
      "outputs": [
        {
          "output_type": "stream",
          "name": "stdout",
          "text": [
            "36\n"
          ]
        }
      ]
    },
    {
      "cell_type": "markdown",
      "source": [
        "# Task 2 - Generate All Permutations of a String:"
      ],
      "metadata": {
        "id": "i-RjSkFud5PT"
      }
    },
    {
      "cell_type": "code",
      "source": [
        "def generate_permutations(s):\n",
        "\n",
        "    if len(s) == 1:\n",
        "        return [s]\n",
        "\n",
        "    permutations = []\n",
        "    for i in range(len(s)):\n",
        "        char = s[i]\n",
        "        remaining = s[:i] + s[i+1:]\n",
        "        for perm in generate_permutations(remaining):\n",
        "            permutations.append(char + perm)\n",
        "\n",
        "    return list(set(permutations))\n",
        "\n",
        "print(generate_permutations(\"abc\"))\n",
        "print(generate_permutations(\"aab\"))\n"
      ],
      "metadata": {
        "colab": {
          "base_uri": "https://localhost:8080/"
        },
        "id": "4EiYWLm_d63h",
        "outputId": "bbdb944a-8ded-4486-9409-595f156dc162"
      },
      "execution_count": 8,
      "outputs": [
        {
          "output_type": "stream",
          "name": "stdout",
          "text": [
            "['abc', 'bac', 'cab', 'cba', 'acb', 'bca']\n",
            "['baa', 'aba', 'aab']\n"
          ]
        }
      ]
    },
    {
      "cell_type": "markdown",
      "source": [
        "# Task 3: Directory Size Calculation"
      ],
      "metadata": {
        "id": "o-CvwCuoeD2q"
      }
    },
    {
      "cell_type": "code",
      "source": [
        "def calculate_directory_size(directory):\n",
        "\n",
        "    total_size = 0\n",
        "\n",
        "    for item, value in directory.items():\n",
        "        if isinstance(value, dict):\n",
        "            total_size += calculate_directory_size(value)\n",
        "        else:\n",
        "            total_size += value\n",
        "\n",
        "    return total_size\n",
        "\n",
        "directory_structure = {\n",
        "    \"file1.txt\": 200,\n",
        "    \"file2.txt\": 300,\n",
        "    \"subdir1\": {\n",
        "        \"file3.txt\": 400,\n",
        "        \"file4.txt\": 100\n",
        "    },\n",
        "    \"subdir2\": {\n",
        "        \"subsubdir1\": {\n",
        "            \"file5.txt\": 250\n",
        "        },\n",
        "        \"file6.txt\": 150\n",
        "    }\n",
        "}\n",
        "\n",
        "print(calculate_directory_size(directory_structure))\n"
      ],
      "metadata": {
        "colab": {
          "base_uri": "https://localhost:8080/"
        },
        "id": "oPrD64O4eFnz",
        "outputId": "5d90ad62-ba60-4ab1-e675-8eab9b38b03f"
      },
      "execution_count": 9,
      "outputs": [
        {
          "output_type": "stream",
          "name": "stdout",
          "text": [
            "1400\n"
          ]
        }
      ]
    },
    {
      "cell_type": "markdown",
      "source": [
        "# **Exercises - Dynamic Programming**\n",
        "\n",
        "\n"
      ],
      "metadata": {
        "id": "ddDtdXi1e6qS"
      }
    },
    {
      "cell_type": "markdown",
      "source": [
        "# Task 1 - Coin Change Problem"
      ],
      "metadata": {
        "id": "ECUZOrw_fG26"
      }
    },
    {
      "cell_type": "code",
      "source": [
        "def min_coins(coins, amount):\n",
        "\n",
        "    dp = [float('inf')] * (amount + 1)\n",
        "    dp[0] = 0\n",
        "\n",
        "    for coin in coins:\n",
        "        for i in range(coin, amount + 1):\n",
        "            dp[i] = min(dp[i], dp[i - coin] + 1)\n",
        "\n",
        "    return dp[amount] if dp[amount] != float('inf') else -1\n",
        "\n",
        "print(min_coins([1, 2, 5], 11))\n"
      ],
      "metadata": {
        "colab": {
          "base_uri": "https://localhost:8080/"
        },
        "id": "CoMklyWxfN7E",
        "outputId": "53fb995f-f56a-4bb3-deaf-0ce44398afd8"
      },
      "execution_count": 11,
      "outputs": [
        {
          "output_type": "stream",
          "name": "stdout",
          "text": [
            "3\n"
          ]
        }
      ]
    },
    {
      "cell_type": "markdown",
      "source": [
        "# Task 2 - Longest Common Subsequence (LCS)"
      ],
      "metadata": {
        "id": "3XXdhxgbfYZk"
      }
    },
    {
      "cell_type": "code",
      "source": [
        "def longest_common_subsequence(s1, s2):\n",
        "\n",
        "    m, n = len(s1), len(s2)\n",
        "    dp = [[0] * (n + 1) for _ in range(m + 1)]\n",
        "\n",
        "    for i in range(1, m + 1):\n",
        "        for j in range(1, n + 1):\n",
        "            if s1[i - 1] == s2[j - 1]:\n",
        "                dp[i][j] = dp[i - 1][j - 1] + 1\n",
        "            else:\n",
        "                dp[i][j] = max(dp[i - 1][j], dp[i][j - 1])\n",
        "\n",
        "    return dp[m][n]\n",
        "\n",
        "print(longest_common_subsequence(\"abcde\", \"ace\"))\n"
      ],
      "metadata": {
        "colab": {
          "base_uri": "https://localhost:8080/"
        },
        "id": "mhwRN7UOfYtc",
        "outputId": "951e8fe6-f800-47ba-9ae3-f828c1ede892"
      },
      "execution_count": 12,
      "outputs": [
        {
          "output_type": "stream",
          "name": "stdout",
          "text": [
            "3\n"
          ]
        }
      ]
    },
    {
      "cell_type": "markdown",
      "source": [
        "# Task 3 - 0/1 Knapsack Problem"
      ],
      "metadata": {
        "id": "VnzxSLFIfj1N"
      }
    },
    {
      "cell_type": "code",
      "source": [
        "def knapsack(weights, values, capacity):\n",
        "    \"\"\"\n",
        "    Finds the maximum value that can be achieved within the given weight capacity using dynamic programming.\n",
        "    \"\"\"\n",
        "    dp = [0] * (capacity + 1)\n",
        "\n",
        "    for i in range(len(weights)):\n",
        "        for w in range(capacity, weights[i] - 1, -1):\n",
        "            dp[w] = max(dp[w], dp[w - weights[i]] + values[i])\n",
        "\n",
        "    return dp[capacity]\n",
        "\n",
        "# Test with weights [1, 3, 4, 5], values [1, 4, 5, 7], and capacity 7\n",
        "print(knapsack([1, 3, 4, 5], [1, 4, 5, 7], 7))  # Output: 9\n"
      ],
      "metadata": {
        "id": "SxvqTFzQfkCl"
      },
      "execution_count": null,
      "outputs": []
    }
  ],
  "metadata": {
    "colab": {
      "name": "Welcome To Colab",
      "toc_visible": true,
      "provenance": [],
      "include_colab_link": true
    },
    "kernelspec": {
      "display_name": "Python 3",
      "name": "python3"
    }
  },
  "nbformat": 4,
  "nbformat_minor": 0
}